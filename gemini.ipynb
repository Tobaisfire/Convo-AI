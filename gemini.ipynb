{
 "cells": [
  {
   "cell_type": "code",
   "execution_count": 2,
   "metadata": {},
   "outputs": [
    {
     "name": "stderr",
     "output_type": "stream",
     "text": [
      "<>:4: SyntaxWarning: invalid escape sequence '\\k'\n",
      "<>:4: SyntaxWarning: invalid escape sequence '\\k'\n",
      "C:\\Users\\KEVAL\\AppData\\Local\\Temp\\ipykernel_424\\3901967267.py:4: SyntaxWarning: invalid escape sequence '\\k'\n",
      "  with open('params\\keys.json','r') as fp:\n"
     ]
    }
   ],
   "source": [
    "import google.generativeai as genai\n",
    "import json \n",
    "\n",
    "with open('params\\keys.json','r') as fp:\n",
    "    data = json.load(fp)\n",
    "\n",
    "genai.configure(api_key=data['api-key'])\n",
    "\n"
   ]
  },
  {
   "cell_type": "code",
   "execution_count": 4,
   "metadata": {},
   "outputs": [],
   "source": [
    "# Set up the model\n",
    "generation_config = {\n",
    "  \"temperature\": 0.9,\n",
    "  \"top_p\": 1,\n",
    "  \"top_k\": 1,\n",
    "  \"max_output_tokens\": 2048,\n",
    "}\n",
    "\n",
    "\n"
   ]
  },
  {
   "cell_type": "code",
   "execution_count": 5,
   "metadata": {},
   "outputs": [],
   "source": [
    "safety_settings = [\n",
    "  {\n",
    "    \"category\": \"HARM_CATEGORY_HARASSMENT\",\n",
    "    \"threshold\": \"BLOCK_MEDIUM_AND_ABOVE\"\n",
    "  },\n",
    "  {\n",
    "    \"category\": \"HARM_CATEGORY_HATE_SPEECH\",\n",
    "    \"threshold\": \"BLOCK_MEDIUM_AND_ABOVE\"\n",
    "  },\n",
    "  {\n",
    "    \"category\": \"HARM_CATEGORY_SEXUALLY_EXPLICIT\",\n",
    "    \"threshold\": \"BLOCK_MEDIUM_AND_ABOVE\"\n",
    "  },\n",
    "  {\n",
    "    \"category\": \"HARM_CATEGORY_DANGEROUS_CONTENT\",\n",
    "    \"threshold\": \"BLOCK_MEDIUM_AND_ABOVE\"\n",
    "  }\n",
    "]\n",
    "\n",
    "model = genai.GenerativeModel(model_name=\"gemini-pro\",\n",
    "                              generation_config=generation_config,\n",
    "                              safety_settings=safety_settings)"
   ]
  },
  {
   "cell_type": "code",
   "execution_count": 6,
   "metadata": {},
   "outputs": [],
   "source": [
    "\n",
    "convo = model.start_chat(history=[])\n",
    "\n"
   ]
  },
  {
   "cell_type": "code",
   "execution_count": 12,
   "metadata": {},
   "outputs": [
    {
     "name": "stdout",
     "output_type": "stream",
     "text": [
      "The G20 Summit 2023 will be the 18th meeting of the Group of Twenty (G20), which is an international forum for the governments and central bank governors from 19 countries and the European Union (EU). The summit is scheduled to take place in New Delhi, India, from September 9-10, 2023.\n",
      "\n",
      "**Key Themes and Priorities:**\n",
      "\n",
      "* **Global Economic Recovery:** The summit is expected to focus on promoting global economic recovery and resilience in the aftermath of the COVID-19 pandemic. This may include discussions on fiscal and monetary policies, trade and investment, and sustainable development.\n",
      "\n",
      "* **Climate Change and Energy Transition:** India has placed a strong emphasis on climate action and sustainable development during its G20 presidency. The summit is likely to address issues such as climate finance, phasing out coal, and promoting renewable energy.\n",
      "\n",
      "* **Digital Transformation:** India is also prioritizing digital transformation as a key theme for the G20. This could involve discussions on digital infrastructure, cybersecurity, and the use of technology for inclusive development.\n",
      "\n",
      "* **Multilateralism and Global Governance:** The summit is expected to reaffirm the importance of multilateralism and cooperation in addressing global challenges. This may include discussions on reforming international institutions, strengthening global health governance, and promoting peace and security.\n",
      "\n",
      "**Expected Outcomes:**\n",
      "\n",
      "The G20 Summit 2023 is likely to produce a range of outcomes, including:\n",
      "\n",
      "* **G20 Delhi Declaration:** A joint statement summarizing the key discussions and commitments made by G20 leaders.\n",
      "\n",
      "* **Action Plans and Initiatives:** Specific initiatives and action plans may be launched to address the summit's priority areas, such as climate change, digital transformation, and global health.\n",
      "\n",
      "* **Strengthened Cooperation:** The summit is expected to strengthen cooperation among G20 countries on various issues, including economic recovery, trade, and sustainable development.\n",
      "\n",
      "**Significance of India's Presidency:**\n",
      "\n",
      "India's presidency of the G20 in 2023 is significant for several reasons. It is the first time that India will host the G20 summit, and it provides an opportunity for the country to showcase its leadership on global issues. India's presidency also coincides with the country's 75th anniversary of independence, making it a particularly symbolic event.\n",
      "\n",
      "Overall, the G20 Summit 2023 is expected to be a major event that will shape the global agenda on a range of critical issues.\n"
     ]
    }
   ],
   "source": [
    "convo.send_message(\"tell me about G20 in 2023 ?\")\n",
    "print(convo.last.text)"
   ]
  },
  {
   "cell_type": "code",
   "execution_count": 13,
   "metadata": {},
   "outputs": [
    {
     "data": {
      "text/plain": [
       "[parts {\n",
       "   text: \"Hello\"\n",
       " }\n",
       " role: \"user\",\n",
       " parts {\n",
       "   text: \"Greetings! How may I assist you today?\"\n",
       " }\n",
       " role: \"model\",\n",
       " parts {\n",
       "   text: \"My name is Tobi.\"\n",
       " }\n",
       " role: \"user\",\n",
       " parts {\n",
       "   text: \"Hello, Tobi! It\\'s great to meet you. I\\'m here to help you with any questions or tasks you may have. Just let me know what you need, and I\\'ll do my best to assist you.\\n\\nIs there anything specific you\\'d like to discuss or ask about today?\"\n",
       " }\n",
       " role: \"model\",\n",
       " parts {\n",
       "   text: \"tell me about G20 in 2023 ?\"\n",
       " }\n",
       " role: \"user\",\n",
       " parts {\n",
       "   text: \"The G20 Summit 2023 will be the 18th meeting of the Group of Twenty (G20), which is an international forum for the governments and central bank governors from 19 countries and the European Union (EU). The summit is scheduled to take place in New Delhi, India, from September 9-10, 2023.\\n\\n**Key Themes and Priorities:**\\n\\n* **Global Economic Recovery:** The summit is expected to focus on promoting global economic recovery and resilience in the aftermath of the COVID-19 pandemic. This may include discussions on fiscal and monetary policies, trade and investment, and sustainable development.\\n\\n* **Climate Change and Energy Transition:** India has placed a strong emphasis on climate action and sustainable development during its G20 presidency. The summit is likely to address issues such as climate finance, phasing out coal, and promoting renewable energy.\\n\\n* **Digital Transformation:** India is also prioritizing digital transformation as a key theme for the G20. This could involve discussions on digital infrastructure, cybersecurity, and the use of technology for inclusive development.\\n\\n* **Multilateralism and Global Governance:** The summit is expected to reaffirm the importance of multilateralism and cooperation in addressing global challenges. This may include discussions on reforming international institutions, strengthening global health governance, and promoting peace and security.\\n\\n**Expected Outcomes:**\\n\\nThe G20 Summit 2023 is likely to produce a range of outcomes, including:\\n\\n* **G20 Delhi Declaration:** A joint statement summarizing the key discussions and commitments made by G20 leaders.\\n\\n* **Action Plans and Initiatives:** Specific initiatives and action plans may be launched to address the summit\\'s priority areas, such as climate change, digital transformation, and global health.\\n\\n* **Strengthened Cooperation:** The summit is expected to strengthen cooperation among G20 countries on various issues, including economic recovery, trade, and sustainable development.\\n\\n**Significance of India\\'s Presidency:**\\n\\nIndia\\'s presidency of the G20 in 2023 is significant for several reasons. It is the first time that India will host the G20 summit, and it provides an opportunity for the country to showcase its leadership on global issues. India\\'s presidency also coincides with the country\\'s 75th anniversary of independence, making it a particularly symbolic event.\\n\\nOverall, the G20 Summit 2023 is expected to be a major event that will shape the global agenda on a range of critical issues.\"\n",
       " }\n",
       " role: \"model\"]"
      ]
     },
     "execution_count": 13,
     "metadata": {},
     "output_type": "execute_result"
    }
   ],
   "source": [
    "convo.history"
   ]
  },
  {
   "cell_type": "code",
   "execution_count": null,
   "metadata": {},
   "outputs": [],
   "source": []
  }
 ],
 "metadata": {
  "kernelspec": {
   "display_name": "gemini",
   "language": "python",
   "name": "python3"
  },
  "language_info": {
   "codemirror_mode": {
    "name": "ipython",
    "version": 3
   },
   "file_extension": ".py",
   "mimetype": "text/x-python",
   "name": "python",
   "nbconvert_exporter": "python",
   "pygments_lexer": "ipython3",
   "version": "3.12.0"
  }
 },
 "nbformat": 4,
 "nbformat_minor": 2
}
